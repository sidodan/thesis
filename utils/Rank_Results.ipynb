{
 "cells": [
  {
   "cell_type": "code",
   "execution_count": 1,
   "metadata": {
    "collapsed": true
   },
   "outputs": [],
   "source": [
    "# This script gets a data files with Personalized PageRank results created by running PPR from the seed nodes.\n",
    "# It returns a ranked list of the users, bases on Aggregated PPR scores / Aggrgated number of appearances.\n",
    "import os\n",
    "import re\n",
    "\n",
    "iterno = '1' # Iter 1 or 2\n",
    "path = '../data_processing/ITER' + iterno + '/AGGR_RESULTS/'\n",
    "resultpath = '../data_processing/'\n",
    "\n",
    "filenames = os.listdir(path)\n",
    "words = {}\n",
    "counts_words = {}\n",
    "aggr_results = {}\n",
    "freqs = {}\n",
    "\n",
    "output = resultpath + 'ITER' + iterno + '_ORDER_BY_AGGR_RESULT.txt'\n",
    "output2 = resultpath + 'ITER' + iterno + '_ORDER_BY_FREQ.txt'\n",
    "\n",
    "out = open(output, 'w')\n",
    "out2 = open(output2, 'w')\n",
    "\n",
    "for filename in filenames:\n",
    "    File = open(path + filename, 'r')\n",
    "    for line in File:\n",
    "        line = line.strip()\n",
    "        line = line.split('\\t')\n",
    "        word = line[0]\n",
    "        aggr_result = line[1]\n",
    "        freq = line[2]\n",
    "        counts_words[word] = int(freq)\n",
    "        words[word] = str(word)\n",
    "        aggr_results[word] = float(aggr_result)\n",
    "        freqs[word] = str(freq)\n",
    "        \n",
    "for word in sorted(aggr_results, key=aggr_results.get, reverse=True):\n",
    "    if counts_words[word] > 1: # Write only when a certain Hashtag appears more than once\n",
    "        out.write(str(words[word]) + '\\t' + str(aggr_results[word]) + '\\t' + str(freqs[word]) + '\\n')    \n",
    "out.close()\n",
    "\n",
    "for word in sorted(counts_words, key=counts_words.get, reverse=True):\n",
    "    if counts_words[word] > 1: # Write only when a certain Hashtag appears more than once\n",
    "        out2.write(str(words[word]) + '\\t' + str(aggr_results[word]) + '\\t' + str(freqs[word]) + '\\n')\n",
    "out2.close()"
   ]
  },
  {
   "cell_type": "code",
   "execution_count": null,
   "metadata": {
    "collapsed": true
   },
   "outputs": [],
   "source": []
  }
 ],
 "metadata": {
  "kernelspec": {
   "display_name": "Python 2",
   "language": "python",
   "name": "python2"
  },
  "language_info": {
   "codemirror_mode": {
    "name": "ipython",
    "version": 2
   },
   "file_extension": ".py",
   "mimetype": "text/x-python",
   "name": "python",
   "nbconvert_exporter": "python",
   "pygments_lexer": "ipython2",
   "version": "2.7.14"
  }
 },
 "nbformat": 4,
 "nbformat_minor": 1
}
