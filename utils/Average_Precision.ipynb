{
 "cells": [
  {
   "cell_type": "code",
   "execution_count": 5,
   "metadata": {},
   "outputs": [
    {
     "name": "stdout",
     "output_type": "stream",
     "text": [
      "Average Precision by APPEARANCE: 0.189635179734\n"
     ]
    }
   ],
   "source": [
    "import os\n",
    "import re\n",
    "\n",
    "##### detrmine calculation method ('SCORE' = Aggregated Score / 'APPEARANCE' = Number of Mutual appearances)\n",
    "calculation_method = 'SCORE' # 'APPEARANCE'\n",
    "\n",
    "iterno = '1' # Iter 1 or 2\n",
    "users_data_path = '../users_files'\n",
    "general_path = '../data_processing'\n",
    "path = general_path\n",
    "\n",
    "if calculation_method == 'SCORE':\n",
    "    # For PPR Score Aggregations\n",
    "    FileName = 'ITER' + iterno + '_ORDER_BY_AGGR_RESULT.txt'\n",
    "else:    \n",
    "    # For Counts Aggregations\n",
    "    FileName = 'ITER' + iterno + '_ORDER_BY_FREQ.txt'\n",
    "    \n",
    "File = open(path + '/' + FileName, 'r')\n",
    "output = general_path + '/' +'AP_SP_'+ 'ITER_' + iterno + '_' + calculation_method + '.txt'\n",
    "out = open(output, 'w')\n",
    "\n",
    "# Internal validation to assure the selected seeds are indeed related to the subpopulation\n",
    "sp_users_list = []\n",
    "list_file = users_data_path + '/' +'subpopulation_users_list.txt'\n",
    "with open(list_file) as file:\n",
    "    for line in file: \n",
    "        line = line.strip()\n",
    "        sp_users_list.append(line)\n",
    "file.close()\n",
    "precision = {}\n",
    "user_cnt = 1 #\n",
    "active_user_cnt = 1\n",
    "ap_sum = 0\n",
    "\n",
    "for line in File:\n",
    "    (user, score, freq) = line.split('\\t')\n",
    "    if user in sp_users_list:\n",
    "        ap = float(active_user_cnt) / float(user_cnt)\n",
    "        ap_sum = ap_sum + ap\n",
    "        ap_cnt = active_user_cnt\n",
    "        ap_avg = float(ap_sum) / float(ap_cnt)\n",
    "        precision[user] = ap\n",
    "        out.write(str(user) + '\\t' + str(ap) + '\\t' + str(active_user_cnt) + '\\t' + str(user_cnt) + '\\t' + str(ap_avg) + '\\n')\n",
    "        active_user_cnt = active_user_cnt + 1\n",
    "        user_cnt = user_cnt + 1    \n",
    "    else:\n",
    "        user_cnt = user_cnt + 1\n",
    "\n",
    "print 'Average Precision by '+ str(calculation_method) + ': ' + str(ap_avg)\n",
    "\n",
    "out.close()\n",
    "File.close()\n"
   ]
  },
  {
   "cell_type": "code",
   "execution_count": null,
   "metadata": {
    "collapsed": true
   },
   "outputs": [],
   "source": []
  }
 ],
 "metadata": {
  "kernelspec": {
   "display_name": "Python 2",
   "language": "python",
   "name": "python2"
  },
  "language_info": {
   "codemirror_mode": {
    "name": "ipython",
    "version": 2
   },
   "file_extension": ".py",
   "mimetype": "text/x-python",
   "name": "python",
   "nbconvert_exporter": "python",
   "pygments_lexer": "ipython2",
   "version": "2.7.14"
  }
 },
 "nbformat": 4,
 "nbformat_minor": 2
}
